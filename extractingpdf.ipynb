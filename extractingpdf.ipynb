{
 "cells": [
  {
   "cell_type": "code",
   "execution_count": null,
   "outputs": [],
   "source": [
    "!pip install tika\n",
    "import os\n",
    "from tika import parser\n",
    "\n",
    "directory_path = r\"C:\\Users\\sharl\\OneDrive\\Desktop\\jim-davies-writing-science\" # Replace \n",
    "#with the absolute path of your directory\n",
    "\n",
    "# Loop through all files in the directory\n",
    "for filename in os.listdir(directory_path):\n",
    "    if filename.endswith(\".pdf\"):\n",
    "        file_path = os.path.join(directory_path, filename)\n",
    "\n",
    "        # Parse the PDF file\n",
    "        parsed_document = parser.from_file(file_path)\n",
    "\n",
    "        # Access the content\n",
    "        content = parsed_document.get('content', '')\n",
    "\n",
    "        # Print or do something wit\n",
    "        print(f\"Content of {filename}:\")\n",
    "        print(content)\n",
    "        print(\"=\" * 50)  # Separating content of different files"
   ],
   "metadata": {
    "collapsed": false,
    "is_executing": true
   },
   "id": "8d8e701d3b2fa4c1"
  },
  {
   "cell_type": "code",
   "execution_count": null,
   "outputs": [],
   "source": [],
   "metadata": {
    "collapsed": false
   },
   "id": "177248b5467df47d"
  }
 ],
 "metadata": {
  "kernelspec": {
   "display_name": "Python 3",
   "language": "python",
   "name": "python3"
  },
  "language_info": {
   "codemirror_mode": {
    "name": "ipython",
    "version": 2
   },
   "file_extension": ".py",
   "mimetype": "text/x-python",
   "name": "python",
   "nbconvert_exporter": "python",
   "pygments_lexer": "ipython2",
   "version": "2.7.6"
  }
 },
 "nbformat": 4,
 "nbformat_minor": 5
}
